{
 "cells": [
  {
   "cell_type": "code",
   "execution_count": 17,
   "metadata": {
    "collapsed": true
   },
   "outputs": [],
   "source": [
    "import numpy as np"
   ]
  },
  {
   "cell_type": "markdown",
   "metadata": {},
   "source": [
    "# Coordinate descent function"
   ]
  },
  {
   "cell_type": "code",
   "execution_count": 25,
   "metadata": {
    "collapsed": true
   },
   "outputs": [],
   "source": [
    "def coordinate_descent(X, y, N, d, lam, initial_weights, initial_bias):\n",
    "    # Setting up initial weights\n",
    "    w = initial_weights\n",
    "    \n",
    "    # Setting up initial bias\n",
    "    bias = initial_bias\n",
    "    b = bias * np.ones(shape=(N, 1))\n",
    "    \n",
    "    # Setting up values of ak\n",
    "    a = np.ones(shape=(d, 1))\n",
    "    for i in range(d):\n",
    "        a[i] = 2 * np.sum(X[i] * X[i])\n",
    "\n",
    "    # Creating ck for k from 1 to d\n",
    "    c = np.ones(shape=(d, 1))\n",
    "    \n",
    "    old_obj = 0\n",
    "\n",
    "    while True:\n",
    "\n",
    "        # calculating r\n",
    "        xtw = np.matmul(np.transpose(X), w)\n",
    "        addition = np.add(xtw, b)\n",
    "        r = np.subtract(y, addition)\n",
    "\n",
    "        # updating bias\n",
    "        bias += (np.sum(r) / float(N))\n",
    "        b = bias * np.ones(shape=(N, 1))\n",
    "\n",
    "        # updating r\n",
    "        constant = np.sum(r) / float(N)\n",
    "        r = np.subtract(r, constant * np.ones(shape=(N, 1)))\n",
    "\n",
    "        # k loop\n",
    "        for k in range(d):\n",
    "            # updating c\n",
    "            summation = 0\n",
    "            for i in range(N):\n",
    "                summation += (X[k][i] * (r[i] + (w[k] * X[k][i])))\n",
    "            c[k] = summation * 2\n",
    "\n",
    "            # updating w\n",
    "            wk_old = w[k]\n",
    "\n",
    "            if c[k] < (-1) * lam:\n",
    "                w[k] = float(c[k] + lam) / float(a[k])\n",
    "            elif c[k] > lam:\n",
    "                w[k] = float(c[k] - lam) / float(a[k])\n",
    "            else:\n",
    "                w[k] = 0\n",
    "\n",
    "            # updating r\n",
    "            # take transpose of kth row of X (corresponds to kth dimension), multiply it by (w_old - w_new)\n",
    "            #r = np.add(r, (wk_old - w[k]) * np.reshape(X[k], newshape=(N, 1)))\n",
    "            r = np.add(r, (wk_old - w[k]) * np.transpose([X[k]]))\n",
    "        \n",
    "        objective = np.sum(r * r) + (lam * np.sum(abs(w)))\n",
    "        #print objective\n",
    "        \n",
    "        if abs(objective - old_obj) < 3:\n",
    "            break\n",
    "        \n",
    "        old_obj = objective\n",
    "        \n",
    "    return w, bias"
   ]
  },
  {
   "cell_type": "markdown",
   "metadata": {},
   "source": [
    "# Regularization path"
   ]
  },
  {
   "cell_type": "code",
   "execution_count": 19,
   "metadata": {
    "collapsed": true
   },
   "outputs": [],
   "source": [
    "def regularization_path(X, y, N, d, lammax):\n",
    "    lambda_val = lammax\n",
    "\n",
    "    initial_bias = 1\n",
    "    initial_weights = np.ones(shape=(d, 1))\n",
    "\n",
    "    lambdas = []\n",
    "    totals = []\n",
    "    corrects = []\n",
    "    precisions = []\n",
    "    recalls = []\n",
    "\n",
    "    for i in range(10):\n",
    "        weights, bias = coordinate_descent(X, y, N, d, lambda_val, initial_weights, initial_bias)\n",
    "        print \"Iteration \", i + 1\n",
    "        print \"lambda = \", lambda_val\n",
    "\n",
    "        lambdas.append(lambda_val)\n",
    "\n",
    "        total = np.count_nonzero(weights)\n",
    "        print \"total nonzero weights = \",  total\n",
    "        totals.append(total)\n",
    "\n",
    "        correct = np.count_nonzero(weights[:k])\n",
    "        print \"correct nonzero weights = \", correct\n",
    "        corrects.append(correct)\n",
    "\n",
    "        try:\n",
    "            p = float(correct) / float(total)\n",
    "            print \"precision = \", p\n",
    "            precisions.append(p)\n",
    "        except ZeroDivisionError:\n",
    "            print \"Dividing by zero\"\n",
    "            precisions.append(1)\n",
    "\n",
    "        try:\n",
    "            r = float(correct) / float(k)\n",
    "            print \"recall = \", r\n",
    "            recalls.append(r)\n",
    "        except ZeroDivisionError:\n",
    "            print \"Dividing by zero\"\n",
    "            recalls.append(1)\n",
    "\n",
    "        print \"\"\n",
    "        #raw_input(\"Enter a character to continue: \")\n",
    "        initial_weights = weights\n",
    "        initial_bias = bias\n",
    "        lambda_val /= 2\n",
    "    \n",
    "    return lambdas, totals, corrects, precisions, recalls"
   ]
  },
  {
   "cell_type": "markdown",
   "metadata": {},
   "source": [
    "# Sigma = 1"
   ]
  },
  {
   "cell_type": "markdown",
   "metadata": {},
   "source": [
    "## Synthetic Data Setup"
   ]
  },
  {
   "cell_type": "code",
   "execution_count": 20,
   "metadata": {
    "collapsed": true
   },
   "outputs": [],
   "source": [
    "N = 250\n",
    "d = 80\n",
    "k = 10\n",
    "sigma = 1\n",
    "\n",
    "X = np.random.normal(0, 1, (d, N))\n",
    "\n",
    "b_star = 0\n",
    "bias = b_star * np.ones(shape=(N, 1))\n",
    "\n",
    "w_star = np.ndarray(shape=(d,1))\n",
    "w_star[0][0] = 10\n",
    "w_star[1][0] = -10\n",
    "w_star[2][0] = -10\n",
    "w_star[3][0] = 10\n",
    "w_star[4][0] = -10\n",
    "w_star[5][0] = 10\n",
    "w_star[6][0] = 10\n",
    "w_star[7][0] = 10\n",
    "w_star[8][0] = -10\n",
    "w_star[9][0] = 10\n",
    "\n",
    "for i in range(10, d):\n",
    "    w_star[i][0] = 0\n",
    "\n",
    "epsilon = np.random.normal(0, sigma, (N, 1))\n",
    "\n",
    "y = np.matmul(np.transpose(X), w_star)\n",
    "y = np.add(y, bias)\n",
    "y = np.add(y, epsilon)"
   ]
  },
  {
   "cell_type": "code",
   "execution_count": 21,
   "metadata": {
    "collapsed": true
   },
   "outputs": [],
   "source": [
    "const = np.sum(y) / float(N)\n",
    "temp = np.subtract(y, const * np.ones(shape=(N, 1)))\n",
    "mult = np.matmul(X, temp)\n",
    "lammax = 2 * np.linalg.norm(mult, np.inf)"
   ]
  },
  {
   "cell_type": "markdown",
   "metadata": {},
   "source": [
    "## Calculations"
   ]
  },
  {
   "cell_type": "code",
   "execution_count": 26,
   "metadata": {
    "scrolled": false
   },
   "outputs": [
    {
     "name": "stdout",
     "output_type": "stream",
     "text": [
      "Iteration  1\n",
      "lambda =  5878.51090234\n",
      "total nonzero weights =  0\n",
      "correct nonzero weights =  0\n",
      "Dividing by zero\n",
      "recall =  0.0\n",
      "\n",
      "Iteration  2\n",
      "lambda =  2939.25545117\n",
      "total nonzero weights =  10\n",
      "correct nonzero weights =  10\n",
      "precision =  1.0\n",
      "recall =  1.0\n",
      "\n",
      "Iteration  3\n",
      "lambda =  1469.62772558\n",
      "total nonzero weights =  10\n",
      "correct nonzero weights =  10\n",
      "precision =  1.0\n",
      "recall =  1.0\n",
      "\n",
      "Iteration  4\n",
      "lambda =  734.813862792\n",
      "total nonzero weights =  10\n",
      "correct nonzero weights =  10\n",
      "precision =  1.0\n",
      "recall =  1.0\n",
      "\n",
      "Iteration  5\n",
      "lambda =  367.406931396\n",
      "total nonzero weights =  10\n",
      "correct nonzero weights =  10\n",
      "precision =  1.0\n",
      "recall =  1.0\n",
      "\n",
      "Iteration  6\n",
      "lambda =  183.703465698\n",
      "total nonzero weights =  10\n",
      "correct nonzero weights =  10\n",
      "precision =  1.0\n",
      "recall =  1.0\n",
      "\n",
      "Iteration  7\n",
      "lambda =  91.851732849\n",
      "total nonzero weights =  10\n",
      "correct nonzero weights =  10\n",
      "precision =  1.0\n",
      "recall =  1.0\n",
      "\n",
      "Iteration  8\n",
      "lambda =  45.9258664245\n",
      "total nonzero weights =  19\n",
      "correct nonzero weights =  10\n",
      "precision =  0.526315789474\n",
      "recall =  1.0\n",
      "\n",
      "Iteration  9\n",
      "lambda =  22.9629332123\n",
      "total nonzero weights =  36\n",
      "correct nonzero weights =  10\n",
      "precision =  0.277777777778\n",
      "recall =  1.0\n",
      "\n",
      "Iteration  10\n",
      "lambda =  11.4814666061\n",
      "total nonzero weights =  58\n",
      "correct nonzero weights =  10\n",
      "precision =  0.172413793103\n",
      "recall =  1.0\n",
      "\n"
     ]
    }
   ],
   "source": [
    "lambdas, totals, corrects, precisions, recalls = regularization_path(X, y, N, d, lammax)"
   ]
  },
  {
   "cell_type": "markdown",
   "metadata": {},
   "source": [
    "## Plot"
   ]
  },
  {
   "cell_type": "code",
   "execution_count": 27,
   "metadata": {
    "collapsed": true
   },
   "outputs": [],
   "source": [
    "iters = [1,2,3,4,5,6,7,8,9,10]\n",
    "y_axis = [0, 0.1, 0.2, 0.3, 0.4, 0.5, 0.6, 0.7, 0.8, 0.9, 1]"
   ]
  },
  {
   "cell_type": "markdown",
   "metadata": {},
   "source": [
    "### Plot of precision vs iteration number\n",
    "\n",
    "#### Here, precision has been plotted against the iteration number, where lambda starts from the maximum value and decreases by a factor of 2 in each iteration. As the graph shows, the precision is 1 when the value of lambda is high, and decreases consequently in each iteration as lambda decreases."
   ]
  },
  {
   "cell_type": "markdown",
   "metadata": {},
   "source": [
    "#### Continuous plot"
   ]
  },
  {
   "cell_type": "code",
   "execution_count": 28,
   "metadata": {},
   "outputs": [
    {
     "data": {
      "image/png": "[encoded data removed]",
      "text/plain": [
       "<matplotlib.figure.Figure at 0x11314f890>"
      ]
     },
     "metadata": {},
     "output_type": "display_data"
    }
   ],
   "source": [
    "import matplotlib.pyplot as plt\n",
    "plt.plot(iters, precisions)\n",
    "plt.xticks(iters)\n",
    "plt.yticks(y_axis)\n",
    "plt.xlabel(\"Iteration\")\n",
    "plt.ylabel(\"Precision\")\n",
    "plt.suptitle(\"Regularization path with sigma = 1\")\n",
    "plt.title(\"Precision vs iteration number\")\n",
    "plt.show()"
   ]
  },
  {
   "cell_type": "markdown",
   "metadata": {},
   "source": [
    "#### Discrete plot"
   ]
  },
  {
   "cell_type": "code",
   "execution_count": 31,
   "metadata": {},
   "outputs": [
    {
     "data": {
      "image/png": "[encoded data removed]",
      "text/plain": [
       "<matplotlib.figure.Figure at 0x11a850a50>"
      ]
     },
     "metadata": {},
     "output_type": "display_data"
    }
   ],
   "source": [
    "import matplotlib.pyplot as plt\n",
    "plt.plot(iters, precisions, \"bo\", markersize=5)\n",
    "plt.xticks(iters)\n",
    "plt.yticks(y_axis)\n",
    "plt.xlabel(\"Iteration\")\n",
    "plt.ylabel(\"Precision\")\n",
    "plt.suptitle(\"Regularization path with sigma = 1\")\n",
    "plt.title(\"Precision vs iteration number\")\n",
    "plt.show()"
   ]
  },
  {
   "cell_type": "markdown",
   "metadata": {},
   "source": [
    "### Plot of recall vs iteration number\n",
    "\n",
    "#### Here, recall has been plotted against the iteration number, where lambda starts from the maximum value and decreases by a factor of 2 in each iteration. As the graph shows, the recall is 0 in the first iteration, and is 1 in all consecutive iterations. This is because when the value of lambda is maximum, all the weights are zero. Hence, none of the 10 weights set to zero are identified by the model. However, when the value of lambda is decreased, all the real nonzero weights are correctly identified by the model."
   ]
  },
  {
   "cell_type": "markdown",
   "metadata": {},
   "source": [
    "#### Continuous plot"
   ]
  },
  {
   "cell_type": "code",
   "execution_count": 32,
   "metadata": {},
   "outputs": [
    {
     "data": {
      "image/png": "[encoded data removed]",
      "text/plain": [
       "<matplotlib.figure.Figure at 0x11a859690>"
      ]
     },
     "metadata": {},
     "output_type": "display_data"
    }
   ],
   "source": [
    "import matplotlib.pyplot as plt\n",
    "plt.plot(iters, recalls)\n",
    "plt.xticks(iters)\n",
    "plt.yticks(y_axis)\n",
    "plt.xlabel(\"Iteration\")\n",
    "plt.ylabel(\"Recall\")\n",
    "plt.suptitle(\"Regularization path with sigma = 1\")\n",
    "plt.title(\"Recall vs iteration number\")\n",
    "plt.show()"
   ]
  },
  {
   "cell_type": "markdown",
   "metadata": {},
   "source": [
    "#### Discrete plot"
   ]
  },
  {
   "cell_type": "code",
   "execution_count": 33,
   "metadata": {},
   "outputs": [
    {
     "data": {
      "image/png": "[encoded data removed]",
      "text/plain": [
       "<matplotlib.figure.Figure at 0x11a883b10>"
      ]
     },
     "metadata": {},
     "output_type": "display_data"
    }
   ],
   "source": [
    "import matplotlib.pyplot as plt\n",
    "plt.plot(iters, recalls, \"bo\", markersize=5)\n",
    "plt.xticks(iters)\n",
    "plt.yticks(y_axis)\n",
    "plt.xlabel(\"Iteration\")\n",
    "plt.ylabel(\"Recall\")\n",
    "plt.suptitle(\"Regularization path with sigma = 1\")\n",
    "plt.title(\"Recall vs iteration number\")\n",
    "plt.show()"
   ]
  },
  {
   "cell_type": "markdown",
   "metadata": {},
   "source": [
    "### Plot of number of nonzero weights vs iteration number\n",
    "\n",
    "#### Here, the number of nonzero weights for each iteration have been plotted, where lambda starts from the maximum value and decreases by a factor of 2 in each iteration. As the graph shows, the number of nonzero weights is 0 when the value of lambda is maximum. It is 10 till the sixth iteration, and consistently increases after that."
   ]
  },
  {
   "cell_type": "markdown",
   "metadata": {},
   "source": [
    "#### Continuous plot"
   ]
  },
  {
   "cell_type": "code",
   "execution_count": 34,
   "metadata": {},
   "outputs": [
    {
     "data": {
      "image/png": "[encoded data removed]",
      "text/plain": [
       "<matplotlib.figure.Figure at 0x11a6256d0>"
      ]
     },
     "metadata": {},
     "output_type": "display_data"
    }
   ],
   "source": [
    "import matplotlib.pyplot as plt\n",
    "plt.plot(iters, totals)\n",
    "plt.xticks(iters)\n",
    "plt.xlabel(\"Iteration\")\n",
    "plt.ylabel(\"Number of non-zero weights\")\n",
    "plt.suptitle(\"Regularization path with sigma = 1\")\n",
    "plt.title(\"Number of non-zero weights vs iteration number\")\n",
    "plt.show()"
   ]
  },
  {
   "cell_type": "markdown",
   "metadata": {},
   "source": [
    "#### Discrete plot"
   ]
  },
  {
   "cell_type": "code",
   "execution_count": 35,
   "metadata": {},
   "outputs": [
    {
     "data": {
      "image/png": "[encoded data removed]",
      "text/plain": [
       "<matplotlib.figure.Figure at 0x11a5d0d10>"
      ]
     },
     "metadata": {},
     "output_type": "display_data"
    }
   ],
   "source": [
    "import matplotlib.pyplot as plt\n",
    "plt.plot(iters, totals, \"bo\", markersize=5)\n",
    "plt.xticks(iters)\n",
    "plt.xlabel(\"Iteration\")\n",
    "plt.ylabel(\"Number of non-zero weights\")\n",
    "plt.suptitle(\"Regularization path with sigma = 1\")\n",
    "plt.title(\"Number of non-zero weights vs iteration number\")\n",
    "plt.show()"
   ]
  },
  {
   "cell_type": "markdown",
   "metadata": {},
   "source": [
    "# Sigma = 10"
   ]
  },
  {
   "cell_type": "markdown",
   "metadata": {},
   "source": [
    "## Synthetic Data setup"
   ]
  },
  {
   "cell_type": "code",
   "execution_count": 36,
   "metadata": {
    "collapsed": true
   },
   "outputs": [],
   "source": [
    "N = 250\n",
    "d = 80\n",
    "k = 10\n",
    "sigma = 10\n",
    "\n",
    "X = np.random.normal(0, 1, (d, N))\n",
    "\n",
    "b_star = 0\n",
    "bias = b_star * np.ones(shape=(N, 1))\n",
    "\n",
    "w_star = np.ndarray(shape=(d,1))\n",
    "w_star[0][0] = 10\n",
    "w_star[1][0] = -10\n",
    "w_star[2][0] = -10\n",
    "w_star[3][0] = 10\n",
    "w_star[4][0] = -10\n",
    "w_star[5][0] = 10\n",
    "w_star[6][0] = 10\n",
    "w_star[7][0] = 10\n",
    "w_star[8][0] = -10\n",
    "w_star[9][0] = 10\n",
    "\n",
    "for i in range(10, d):\n",
    "    w_star[i][0] = 0\n",
    "\n",
    "epsilon = np.random.normal(0, sigma, (N, 1))\n",
    "\n",
    "y = np.matmul(np.transpose(X), w_star)\n",
    "y = np.add(y, bias)\n",
    "y = np.add(y, epsilon)"
   ]
  },
  {
   "cell_type": "markdown",
   "metadata": {},
   "source": [
    "## Calculation"
   ]
  },
  {
   "cell_type": "markdown",
   "metadata": {},
   "source": [
    "### When sigma was 1, value of lambda that worked well was 734.813862792, in the 4th iteration. This value of lambda has been used here."
   ]
  },
  {
   "cell_type": "code",
   "execution_count": 39,
   "metadata": {
    "collapsed": true
   },
   "outputs": [],
   "source": [
    "initial_bias = 1\n",
    "initial_weights = np.ones(shape=(d, 1))\n",
    "weights, bias = coordinate_descent(X, y, N, d, 734.813862792, initial_weights, initial_bias)"
   ]
  },
  {
   "cell_type": "code",
   "execution_count": 40,
   "metadata": {},
   "outputs": [
    {
     "name": "stdout",
     "output_type": "stream",
     "text": [
      "total nonzero weights =  14\n",
      "correct nonzero weights =  10\n",
      "precision =  0.714285714286\n",
      "recall =  1.0\n"
     ]
    }
   ],
   "source": [
    "total = np.count_nonzero(weights)\n",
    "print \"total nonzero weights = \",  total\n",
    "\n",
    "correct = np.count_nonzero(weights[:k])\n",
    "print \"correct nonzero weights = \", correct\n",
    "\n",
    "try:\n",
    "    p = float(correct) / float(total)\n",
    "    print \"precision = \", p\n",
    "except ZeroDivisionError:\n",
    "    print \"Dividing by zero\"\n",
    "\n",
    "try:\n",
    "    r = float(correct) / float(k)\n",
    "    print \"recall = \", r\n",
    "except ZeroDivisionError:\n",
    "    print \"Dividing by zero\""
   ]
  },
  {
   "cell_type": "markdown",
   "metadata": {},
   "source": [
    "#### It can be seen that the precision has reduced, while the recall is still the same."
   ]
  },
  {
   "cell_type": "markdown",
   "metadata": {},
   "source": [
    "#### Increasing the value of lambda results in a higher value of precision, as can be seen from the following result:"
   ]
  },
  {
   "cell_type": "code",
   "execution_count": 41,
   "metadata": {
    "collapsed": true
   },
   "outputs": [],
   "source": [
    "initial_bias = 1\n",
    "initial_weights = np.ones(shape=(d, 1))\n",
    "weights, bias = coordinate_descent(X, y, N, d, 1469.62772558, initial_weights, initial_bias)"
   ]
  },
  {
   "cell_type": "code",
   "execution_count": 42,
   "metadata": {},
   "outputs": [
    {
     "name": "stdout",
     "output_type": "stream",
     "text": [
      "total nonzero weights =  10\n",
      "correct nonzero weights =  10\n",
      "precision =  1.0\n",
      "recall =  1.0\n"
     ]
    }
   ],
   "source": [
    "total = np.count_nonzero(weights)\n",
    "print \"total nonzero weights = \",  total\n",
    "\n",
    "correct = np.count_nonzero(weights[:k])\n",
    "print \"correct nonzero weights = \", correct\n",
    "\n",
    "try:\n",
    "    p = float(correct) / float(total)\n",
    "    print \"precision = \", p\n",
    "except ZeroDivisionError:\n",
    "    print \"Dividing by zero\"\n",
    "\n",
    "try:\n",
    "    r = float(correct) / float(k)\n",
    "    print \"recall = \", r\n",
    "except ZeroDivisionError:\n",
    "    print \"Dividing by zero\""
   ]
  }
 ],
 "metadata": {
  "kernelspec": {
   "display_name": "Python 2",
   "language": "python",
   "name": "python2"
  },
  "language_info": {
   "codemirror_mode": {
    "name": "ipython",
    "version": 2
   },
   "file_extension": ".py",
   "mimetype": "text/x-python",
   "name": "python",
   "nbconvert_exporter": "python",
   "pygments_lexer": "ipython2",
   "version": "2.7.14"
  }
 },
 "nbformat": 4,
 "nbformat_minor": 2
}
