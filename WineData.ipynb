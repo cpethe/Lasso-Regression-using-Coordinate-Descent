{
 "cells": [
  {
   "cell_type": "code",
   "execution_count": 1,
   "metadata": {
    "collapsed": true
   },
   "outputs": [],
   "source": [
    "import numpy as np\n",
    "import pandas as pd\n",
    "from scipy.sparse import coo_matrix, csc_matrix\n",
    "from sklearn.metrics import mean_squared_error\n",
    "from math import sqrt"
   ]
  },
  {
   "cell_type": "markdown",
   "metadata": {},
   "source": [
    "# Coordinate descent function"
   ]
  },
  {
   "cell_type": "code",
   "execution_count": 2,
   "metadata": {
    "collapsed": true
   },
   "outputs": [],
   "source": [
    "def coordinate_descent(X, y, N, d, lam, initial_weights, initial_bias):\n",
    "    # Setting up initial weights\n",
    "    w = initial_weights\n",
    "    \n",
    "    # Setting up initial bias\n",
    "    bias = initial_bias\n",
    "    b = csc_matrix(bias * np.ones(shape=(N, 1)))\n",
    "    \n",
    "    # Setting up values of ak\n",
    "    a = np.ones(shape=(d, 1))\n",
    "    for i in range(d):\n",
    "        temp = X.getrow(i)\n",
    "        a[i] = 2 * temp.multiply(temp).sum()\n",
    "\n",
    "    # Creating ck for k from 1 to d\n",
    "    c = np.ones(shape=(d, 1))\n",
    "    \n",
    "    old_obj = 0\n",
    "\n",
    "    while True:\n",
    "\n",
    "        # calculating r\n",
    "        xtw = X.transpose() * w\n",
    "        addition = xtw + b\n",
    "        r = y - addition\n",
    "\n",
    "        # updating bias\n",
    "        bias += (r.sum() / float(N))\n",
    "        b = csc_matrix(bias * np.ones(shape=(N, 1)))\n",
    "\n",
    "        # updating r\n",
    "        constant = r.sum() / float(N)\n",
    "        r = r - csc_matrix(constant * np.ones(shape=(N, 1)))\n",
    "\n",
    "        # k loop\n",
    "        for k in range(d):\n",
    "            \n",
    "            # updating c\n",
    "            kth_row = X.getrow(k)\n",
    "            cols_nonzero = kth_row.nonzero()[1]\n",
    "            \n",
    "            summation = 0\n",
    "            \n",
    "            for i in cols_nonzero:\n",
    "                summation += (kth_row[0, i] * (r[i, 0] + (w[k, 0] * kth_row[0, i])))\n",
    "            c[k] = 2 * summation\n",
    "\n",
    "            # updating w\n",
    "            wk_old = w[k]\n",
    "\n",
    "            if c[k] < (-1) * lam:\n",
    "                w[k] = float(c[k] + lam) / float(a[k])\n",
    "            elif c[k] > lam:\n",
    "                w[k] = float(c[k] - lam) / float(a[k])\n",
    "            else:\n",
    "                w[k] = 0\n",
    "\n",
    "            # updating r\n",
    "            # take transpose of kth row of X (corresponds to kth dimension), multiply it by (w_old - w_new)\n",
    "            r = r + ((wk_old - w[k]).toarray()[0][0] * kth_row.transpose())\n",
    "        \n",
    "        objective = r.multiply(r).sum() + (lam * abs(w).sum())\n",
    "        print(objective)\n",
    "        \n",
    "        if abs(objective - old_obj) < 10:\n",
    "            break\n",
    "        \n",
    "        old_obj = objective\n",
    "        \n",
    "    return w, bias"
   ]
  },
  {
   "cell_type": "markdown",
   "metadata": {},
   "source": [
    "# Wine data"
   ]
  },
  {
   "cell_type": "markdown",
   "metadata": {},
   "source": [
    "## Training set"
   ]
  },
  {
   "cell_type": "code",
   "execution_count": 3,
   "metadata": {
    "collapsed": true
   },
   "outputs": [],
   "source": [
    "x_read = pd.read_csv(\"./trainData.txt\", delimiter=\" \", header=None)\n",
    "y_read = pd.read_csv(\"./trainLabels.txt\", header=None)"
   ]
  },
  {
   "cell_type": "code",
   "execution_count": 4,
   "metadata": {
    "collapsed": true
   },
   "outputs": [],
   "source": [
    "row = []\n",
    "col = []\n",
    "data = []\n",
    "\n",
    "for index, r in x_read.iterrows():\n",
    "    col.append(r[0] - 1)\n",
    "    row.append(r[1] - 1)\n",
    "    data.append(r[2])\n",
    "\n",
    "rows = np.array(row)\n",
    "cols = np.array(col)\n",
    "data_points = np.array(data)\n",
    "\n",
    "X = coo_matrix((data, (row, col)))\n",
    "X = csc_matrix(X)\n",
    "\n",
    "y = csc_matrix(y_read)\n",
    "\n",
    "d = X.shape[0]\n",
    "N = X.shape[1]"
   ]
  },
  {
   "cell_type": "markdown",
   "metadata": {},
   "source": [
    "## Validation set"
   ]
  },
  {
   "cell_type": "code",
   "execution_count": 5,
   "metadata": {
    "collapsed": true
   },
   "outputs": [],
   "source": [
    "x_val_read = pd.read_csv(\"./valData.txt\", delimiter=\" \", header=None)\n",
    "y_val_read = pd.read_csv(\"./valLabels.txt\", header=None)"
   ]
  },
  {
   "cell_type": "code",
   "execution_count": 6,
   "metadata": {
    "collapsed": true
   },
   "outputs": [],
   "source": [
    "row = []\n",
    "col = []\n",
    "data = []\n",
    "\n",
    "for index, r in x_val_read.iterrows():\n",
    "    col.append(r[0] - 1)\n",
    "    row.append(r[1] - 1)\n",
    "    data.append(r[2])\n",
    "\n",
    "rows = np.array(row)\n",
    "cols = np.array(col)\n",
    "data_points = np.array(data)\n",
    "\n",
    "X_val = coo_matrix((data, (row, col)))\n",
    "X_val = csc_matrix(X_val)\n",
    "\n",
    "y_val = csc_matrix(y_val_read)\n",
    "\n",
    "d_val = X_val.shape[0]\n",
    "N_val = X_val.shape[1]"
   ]
  },
  {
   "cell_type": "markdown",
   "metadata": {},
   "source": [
    "## Calculating lambda max and setting initial values"
   ]
  },
  {
   "cell_type": "code",
   "execution_count": 15,
   "metadata": {
    "collapsed": true
   },
   "outputs": [],
   "source": [
    "const = y.sum() / float(N)\n",
    "temp = y - coo_matrix(const * np.ones(shape=(N, 1)))\n",
    "mult = X * temp\n",
    "lammax = 2 * np.linalg.norm(mult.toarray(), np.inf)"
   ]
  },
  {
   "cell_type": "code",
   "execution_count": 16,
   "metadata": {
    "collapsed": true
   },
   "outputs": [],
   "source": [
    "l = []\n",
    "w = []\n",
    "b = []\n",
    "t = []\n",
    "v = []\n",
    "n = []"
   ]
  },
  {
   "cell_type": "markdown",
   "metadata": {},
   "source": [
    "## Regularization path"
   ]
  },
  {
   "cell_type": "code",
   "execution_count": 17,
   "metadata": {
    "scrolled": false
   },
   "outputs": [
    {
     "name": "stdout",
     "output_type": "stream",
     "text": [
      "lambda =  1271.869651\n",
      "objective function values:\n",
      "230851.284744\n",
      "169608.56522\n",
      "127424.11822\n",
      "116030.556599\n",
      "115339.9759\n",
      "115339.9759\n",
      "\n",
      "Validation errors:  [3.3895861945081145]\n",
      "lambda =  635.9348255\n",
      "objective function values:\n",
      "113464.97052\n",
      "113351.724815\n",
      "113268.054226\n",
      "113230.355473\n",
      "113218.396063\n",
      "113214.759373\n",
      "\n",
      "Validation errors:  [3.3895861945081145, 3.2412400776788184]\n",
      "lambda =  317.96741275\n",
      "objective function values:\n",
      "104738.684741\n",
      "104551.489754\n",
      "104543.97238\n",
      "\n",
      "Validation errors:  [3.3895861945081145, 3.2412400776788184, 3.0015160579206355]\n",
      "lambda =  158.983706375\n",
      "objective function values:\n",
      "93427.2510091\n",
      "93157.6156333\n",
      "93126.7153739\n",
      "93101.1326074\n",
      "93080.6236026\n",
      "93066.3107944\n",
      "93057.5419756\n",
      "\n",
      "Validation errors:  [3.3895861945081145, 3.2412400776788184, 3.0015160579206355, 2.785780650082134]\n",
      "lambda =  79.4918531875\n",
      "objective function values:\n",
      "81062.1062604\n",
      "80612.1672541\n",
      "80552.4043291\n",
      "80513.3620368\n",
      "80482.4057553\n",
      "80456.1641073\n",
      "80433.9610165\n",
      "80415.5741849\n",
      "80401.1665399\n",
      "80390.4104958\n",
      "80381.6312596\n",
      "\n",
      "Validation errors:  [3.3895861945081145, 3.2412400776788184, 3.0015160579206355, 2.785780650082134, 2.5429305094707444]\n",
      "lambda =  39.7459265938\n",
      "objective function values:\n",
      "68714.365228\n",
      "68352.4307034\n",
      "68305.1331802\n",
      "68270.7231776\n",
      "68240.9455104\n",
      "68213.764257\n",
      "68188.5222296\n",
      "68165.0010412\n",
      "68142.9228016\n",
      "68122.3127848\n",
      "68103.3602315\n",
      "68086.4981352\n",
      "68072.3079661\n",
      "68060.8076482\n",
      "68051.6754886\n",
      "\n",
      "Validation errors:  [3.3895861945081145, 3.2412400776788184, 3.0015160579206355, 2.785780650082134, 2.5429305094707444, 2.3474344797366755]\n",
      "lambda =  19.8729632969\n",
      "objective function values:\n",
      "57979.0053859\n",
      "57702.0114457\n",
      "57655.3353011\n",
      "57624.6036422\n",
      "57596.9495669\n",
      "57570.880293\n",
      "57546.2307013\n",
      "57522.9341864\n",
      "57500.9228486\n",
      "57480.1207935\n",
      "57460.495184\n",
      "57442.0745472\n",
      "57424.9926458\n",
      "57409.4001243\n",
      "57395.3470171\n",
      "57382.8551075\n",
      "57372.1431947\n",
      "57363.1045805\n",
      "\n",
      "Validation errors:  [3.3895861945081145, 3.2412400776788184, 3.0015160579206355, 2.785780650082134, 2.5429305094707444, 2.3474344797366755, 2.1883453070331873]\n",
      "lambda =  9.93648164844\n",
      "objective function values:\n",
      "48490.7849647\n",
      "48244.2643303\n",
      "48202.9668364\n",
      "48174.1193925\n",
      "48148.2373791\n",
      "48123.7901249\n",
      "48100.6750522\n",
      "48078.7772394\n",
      "48058.0565357\n",
      "48038.3075715\n",
      "48019.4564684\n",
      "48001.3984407\n",
      "47984.2177009\n",
      "47968.0304361\n",
      "47952.9164894\n",
      "47938.9260739\n",
      "47926.0459736\n",
      "47914.2821704\n",
      "47903.6339193\n",
      "47894.0974466\n",
      "\n",
      "Validation errors:  [3.3895861945081145, 3.2412400776788184, 3.0015160579206355, 2.785780650082134, 2.5429305094707444, 2.3474344797366755, 2.1883453070331873, 2.0538853351627013]\n",
      "lambda =  4.96824082422\n",
      "objective function values:\n",
      "40285.8084354\n",
      "40108.8915069\n",
      "40070.5174734\n",
      "40046.1598021\n",
      "40024.4678101\n",
      "40003.775277\n",
      "39983.9241387\n",
      "39964.9662854\n",
      "39946.9645763\n",
      "39929.9332149\n",
      "39913.7746684\n",
      "39898.3889551\n",
      "39883.7063281\n",
      "39869.6912403\n",
      "39856.3118368\n",
      "39843.5827674\n",
      "39831.5079034\n",
      "39820.0809782\n",
      "39809.2965149\n",
      "39799.1553699\n",
      "39789.6451613\n",
      "\n",
      "Validation errors:  [3.3895861945081145, 3.2412400776788184, 3.0015160579206355, 2.785780650082134, 2.5429305094707444, 2.3474344797366755, 2.1883453070331873, 2.0538853351627013, 1.9764444020617309]\n",
      "lambda =  2.48412041211\n",
      "objective function values:\n",
      "33725.1448284\n",
      "33583.8416629\n",
      "33547.7408508\n",
      "33528.0156421\n",
      "33512.4623036\n",
      "33498.1673783\n",
      "33484.3107891\n",
      "33470.7126773\n",
      "33457.2802664\n",
      "33444.0404208\n",
      "33431.0264445\n",
      "33418.3040027\n",
      "33405.9153474\n",
      "33393.9039002\n",
      "33382.2959066\n",
      "33371.1093073\n",
      "33360.3566131\n",
      "33350.0359122\n",
      "33340.1477215\n",
      "\n",
      "Validation errors:  [3.3895861945081145, 3.2412400776788184, 3.0015160579206355, 2.785780650082134, 2.5429305094707444, 2.3474344797366755, 2.1883453070331873, 2.0538853351627013, 1.9764444020617309, 1.9618388378919038]\n",
      "lambda =  1.24206020605\n",
      "objective function values:\n",
      "28884.8432462\n",
      "28784.083595\n",
      "28749.7614267\n",
      "28730.2710665\n",
      "28715.8462407\n",
      "28703.5433001\n",
      "28692.1651932\n",
      "28681.299223\n",
      "28670.7366564\n",
      "28660.3955517\n",
      "28650.2547135\n",
      "28640.3227544\n",
      "\n",
      "Validation errors:  [3.3895861945081145, 3.2412400776788184, 3.0015160579206355, 2.785780650082134, 2.5429305094707444, 2.3474344797366755, 2.1883453070331873, 2.0538853351627013, 1.9764444020617309, 1.9618388378919038, 1.9924953257516271]\n"
     ]
    }
   ],
   "source": [
    "bias = 1\n",
    "weights = csc_matrix(np.ones(shape=(d, 1)))\n",
    "lam = lammax\n",
    "\n",
    "while True:\n",
    "    \n",
    "    print \"lambda = \", lam\n",
    "    print \"objective function values:\"\n",
    "    \n",
    "    # Call coordinate descent\n",
    "    weights, bias = coordinate_descent(X, y, N, d, lam, weights, bias)\n",
    "    \n",
    "    print \"\"\n",
    "    \n",
    "    # Append l, w, b, t, v, n to respective arrays\n",
    "    y_pred = (X.transpose() * weights) + (bias * csc_matrix(np.ones(shape=(N, 1))))\n",
    "    train_error = sqrt(mean_squared_error(y.toarray(), y_pred.toarray()))\n",
    "    \n",
    "    y_val_pred = (X_val.transpose() * weights) + (bias * csc_matrix(np.ones(shape=(N_val, 1))))\n",
    "    validation_error = sqrt(mean_squared_error(y_val.toarray(), y_val_pred.toarray()))\n",
    "    \n",
    "    l.append(lam)\n",
    "    w.append(np.transpose(weights.toarray())[0])\n",
    "    b.append(bias)\n",
    "    t.append(train_error)\n",
    "    v.append(validation_error)\n",
    "    n.append(weights.count_nonzero())\n",
    "    \n",
    "    print \"Validation errors: \", v\n",
    "    \n",
    "    if len(v) > 1:\n",
    "        if v[-1] >  v[-2]:\n",
    "            break\n",
    "    \n",
    "    lam = lam / 2"
   ]
  },
  {
   "cell_type": "markdown",
   "metadata": {},
   "source": [
    "## Results"
   ]
  },
  {
   "cell_type": "markdown",
   "metadata": {},
   "source": [
    "### Lambda"
   ]
  },
  {
   "cell_type": "code",
   "execution_count": 18,
   "metadata": {},
   "outputs": [
    {
     "data": {
      "text/plain": [
       "[1271.8696510000054,\n",
       " 635.93482550000272,\n",
       " 317.96741275000136,\n",
       " 158.98370637500068,\n",
       " 79.49185318750034,\n",
       " 39.74592659375017,\n",
       " 19.872963296875085,\n",
       " 9.9364816484375424,\n",
       " 4.9682408242187712,\n",
       " 2.4841204121093856,\n",
       " 1.2420602060546928]"
      ]
     },
     "execution_count": 18,
     "metadata": {},
     "output_type": "execute_result"
    }
   ],
   "source": [
    "l"
   ]
  },
  {
   "cell_type": "markdown",
   "metadata": {},
   "source": [
    "### Weights"
   ]
  },
  {
   "cell_type": "code",
   "execution_count": 19,
   "metadata": {},
   "outputs": [
    {
     "data": {
      "text/plain": [
       "[array([ 0.,  0.,  0., ...,  0.,  0.,  0.]),\n",
       " array([ 0.,  0.,  0., ...,  0.,  0.,  0.]),\n",
       " array([ 0.,  0.,  0., ...,  0.,  0.,  0.]),\n",
       " array([ 0.,  0.,  0., ...,  0.,  0.,  0.]),\n",
       " array([ 0.,  0.,  0., ...,  0.,  0.,  0.]),\n",
       " array([ 0.,  0.,  0., ...,  0.,  0.,  0.]),\n",
       " array([ 0.,  0.,  0., ...,  0.,  0.,  0.]),\n",
       " array([ 0.        ,  1.00978412,  0.        , ...,  0.        ,\n",
       "         0.        ,  0.        ]),\n",
       " array([ 0.        ,  2.28668148,  1.70181785, ...,  0.        ,\n",
       "         0.        ,  0.        ]),\n",
       " array([ 0.        ,  2.85398928,  3.49246666, ...,  0.        ,\n",
       "         0.00405587,  0.35251763]),\n",
       " array([ 0.        ,  3.40785916,  4.82490395, ..., -0.38041382,\n",
       "         0.60224647,  1.21856919])]"
      ]
     },
     "execution_count": 19,
     "metadata": {},
     "output_type": "execute_result"
    }
   ],
   "source": [
    "w"
   ]
  },
  {
   "cell_type": "markdown",
   "metadata": {},
   "source": [
    "### Biases"
   ]
  },
  {
   "cell_type": "code",
   "execution_count": 20,
   "metadata": {},
   "outputs": [
    {
     "data": {
      "text/plain": [
       "[87.932900000000004,\n",
       " 88.170626516171126,\n",
       " 88.111864188035582,\n",
       " 87.904740384626905,\n",
       " 87.475222182681605,\n",
       " 86.882270242346991,\n",
       " 86.165086438463661,\n",
       " 85.398733834260668,\n",
       " 84.638199943484281,\n",
       " 84.014588693610975,\n",
       " 83.647902781819951]"
      ]
     },
     "execution_count": 20,
     "metadata": {},
     "output_type": "execute_result"
    }
   ],
   "source": [
    "b"
   ]
  },
  {
   "cell_type": "markdown",
   "metadata": {},
   "source": [
    "### Training errors"
   ]
  },
  {
   "cell_type": "code",
   "execution_count": 21,
   "metadata": {},
   "outputs": [
    {
     "data": {
      "text/plain": [
       "[3.396173963447691,\n",
       " 3.238322144707735,\n",
       " 2.9879366102450344,\n",
       " 2.7542809757877276,\n",
       " 2.4886447243449688,\n",
       " 2.270484805235794,\n",
       " 2.077738219989243,\n",
       " 1.8797392635286654,\n",
       " 1.7187532695297227,\n",
       " 1.595002031123992,\n",
       " 1.5241736705359035]"
      ]
     },
     "execution_count": 21,
     "metadata": {},
     "output_type": "execute_result"
    }
   ],
   "source": [
    "t"
   ]
  },
  {
   "cell_type": "markdown",
   "metadata": {},
   "source": [
    "### Validation errors"
   ]
  },
  {
   "cell_type": "code",
   "execution_count": 22,
   "metadata": {},
   "outputs": [
    {
     "data": {
      "text/plain": [
       "[3.3895861945081145,\n",
       " 3.2412400776788184,\n",
       " 3.0015160579206355,\n",
       " 2.785780650082134,\n",
       " 2.5429305094707444,\n",
       " 2.3474344797366755,\n",
       " 2.1883453070331873,\n",
       " 2.0538853351627013,\n",
       " 1.9764444020617309,\n",
       " 1.9618388378919038,\n",
       " 1.9924953257516271]"
      ]
     },
     "execution_count": 22,
     "metadata": {},
     "output_type": "execute_result"
    }
   ],
   "source": [
    "v"
   ]
  },
  {
   "cell_type": "markdown",
   "metadata": {},
   "source": [
    "### Count of nonzero weights"
   ]
  },
  {
   "cell_type": "code",
   "execution_count": 23,
   "metadata": {},
   "outputs": [
    {
     "data": {
      "text/plain": [
       "[0, 6, 17, 46, 112, 225, 403, 716, 1178, 1784, 2254]"
      ]
     },
     "execution_count": 23,
     "metadata": {},
     "output_type": "execute_result"
    }
   ],
   "source": [
    "n"
   ]
  },
  {
   "cell_type": "markdown",
   "metadata": {},
   "source": [
    "## Storing the results"
   ]
  },
  {
   "cell_type": "code",
   "execution_count": 29,
   "metadata": {
    "collapsed": true
   },
   "outputs": [],
   "source": [
    "w_file = pd.DataFrame(w)"
   ]
  },
  {
   "cell_type": "code",
   "execution_count": 30,
   "metadata": {
    "collapsed": true
   },
   "outputs": [],
   "source": [
    "w_file.to_csv(\"./weights.csv\")"
   ]
  },
  {
   "cell_type": "code",
   "execution_count": 31,
   "metadata": {
    "collapsed": true
   },
   "outputs": [],
   "source": [
    "l_file = pd.DataFrame(l)"
   ]
  },
  {
   "cell_type": "code",
   "execution_count": 32,
   "metadata": {
    "collapsed": true
   },
   "outputs": [],
   "source": [
    "l_file.to_csv(\"./lambdas.csv\")"
   ]
  },
  {
   "cell_type": "code",
   "execution_count": 33,
   "metadata": {
    "collapsed": true
   },
   "outputs": [],
   "source": [
    "b_file = pd.DataFrame(b)"
   ]
  },
  {
   "cell_type": "code",
   "execution_count": 34,
   "metadata": {
    "collapsed": true
   },
   "outputs": [],
   "source": [
    "b_file.to_csv(\"./biases.csv\")"
   ]
  },
  {
   "cell_type": "code",
   "execution_count": 35,
   "metadata": {
    "collapsed": true
   },
   "outputs": [],
   "source": [
    "t_file = pd.DataFrame(t)"
   ]
  },
  {
   "cell_type": "code",
   "execution_count": 36,
   "metadata": {
    "collapsed": true
   },
   "outputs": [],
   "source": [
    "t_file.to_csv(\"./training_errors.csv\")"
   ]
  },
  {
   "cell_type": "code",
   "execution_count": 37,
   "metadata": {
    "collapsed": true
   },
   "outputs": [],
   "source": [
    "v_file = pd.DataFrame(v)"
   ]
  },
  {
   "cell_type": "code",
   "execution_count": 38,
   "metadata": {
    "collapsed": true
   },
   "outputs": [],
   "source": [
    "v_file.to_csv(\"./validation_errors.csv\")"
   ]
  },
  {
   "cell_type": "code",
   "execution_count": 39,
   "metadata": {
    "collapsed": true
   },
   "outputs": [],
   "source": [
    "n_file = pd.DataFrame(n)"
   ]
  },
  {
   "cell_type": "code",
   "execution_count": 40,
   "metadata": {
    "collapsed": true
   },
   "outputs": [],
   "source": [
    "n_file.to_csv(\"./nonzero_counts.csv\")"
   ]
  },
  {
   "cell_type": "markdown",
   "metadata": {},
   "source": [
    "## Plots"
   ]
  },
  {
   "cell_type": "markdown",
   "metadata": {},
   "source": [
    "### RMSE vs lambda has been represented in a plot of RMSE vs iteration number, where:\n",
    "### lower iteration number (towards left of X-axis) indicates higher lambda\n",
    "### higher iteration number (towards right of X-axis) indicates lower lambda"
   ]
  },
  {
   "cell_type": "code",
   "execution_count": 21,
   "metadata": {
    "collapsed": true
   },
   "outputs": [],
   "source": [
    "import pandas as pd\n",
    "t_read = pd.read_csv(\"./training_errors.csv\")\n",
    "v_read = pd.read_csv(\"./validation_errors.csv\")"
   ]
  },
  {
   "cell_type": "code",
   "execution_count": 25,
   "metadata": {
    "collapsed": true
   },
   "outputs": [],
   "source": [
    "t = list(t_read['0'])"
   ]
  },
  {
   "cell_type": "code",
   "execution_count": 31,
   "metadata": {
    "collapsed": true
   },
   "outputs": [],
   "source": [
    "v = list(v_read['0'])"
   ]
  },
  {
   "cell_type": "markdown",
   "metadata": {},
   "source": [
    "### Continuous plot"
   ]
  },
  {
   "cell_type": "code",
   "execution_count": 34,
   "metadata": {},
   "outputs": [
    {
     "data": {
      "image/png": "[encoded data removed]",
      "text/plain": [
       "<matplotlib.figure.Figure at 0x118bf1ad0>"
      ]
     },
     "metadata": {},
     "output_type": "display_data"
    }
   ],
   "source": [
    "plot_iterations = [1,2,3,4,5,6,7,8,9,10,11]\n",
    "import matplotlib.pyplot as plt\n",
    "plt.figure(figsize=(5,5))\n",
    "plt.plot(plot_iterations, t,'g', markersize=6)\n",
    "plt.plot(plot_iterations, v,'r', markersize=6)\n",
    "plt.legend([\"Training error\", \"Validation error\"])\n",
    "plt.xticks(plot_iterations)\n",
    "y_ticks = [i for i in np.arange(1, 3.75, 0.25)]\n",
    "plt.yticks(y_ticks)\n",
    "plt.xlabel(\"Iteration\")\n",
    "plt.ylabel(\"Training error / Validation error (RMSE)\")\n",
    "plt.suptitle(\"Regularization path\")\n",
    "plt.title(\"RMSE vs iteration number\")\n",
    "plt.show()"
   ]
  },
  {
   "cell_type": "markdown",
   "metadata": {},
   "source": [
    "### Discrete plot"
   ]
  },
  {
   "cell_type": "code",
   "execution_count": 38,
   "metadata": {},
   "outputs": [
    {
     "data": {
      "image/png": "[encoded data removed]",
      "text/plain": [
       "<matplotlib.figure.Figure at 0x119417a10>"
      ]
     },
     "metadata": {},
     "output_type": "display_data"
    }
   ],
   "source": [
    "plot_iterations = [1,2,3,4,5,6,7,8,9,10,11]\n",
    "import matplotlib.pyplot as plt\n",
    "plt.figure(figsize=(5,5))\n",
    "plt.plot(plot_iterations, t,'go', markersize=4)\n",
    "plt.plot(plot_iterations, v,'ro', markersize=4)\n",
    "plt.legend([\"Training error\", \"Validation error\"])\n",
    "plt.xticks(plot_iterations)\n",
    "y_ticks = [i for i in np.arange(1, 3.75, 0.25)]\n",
    "plt.yticks(y_ticks)\n",
    "plt.xlabel(\"Iteration\")\n",
    "plt.ylabel(\"Training error / Validation error (RMSE)\")\n",
    "plt.suptitle(\"Regularization path\")\n",
    "plt.title(\"RMSE vs iteration number\")\n",
    "plt.show()"
   ]
  },
  {
   "cell_type": "markdown",
   "metadata": {},
   "source": [
    "#### At the 10th iteration, we get the minimum value of validation error."
   ]
  },
  {
   "cell_type": "code",
   "execution_count": 3,
   "metadata": {
    "collapsed": true
   },
   "outputs": [],
   "source": [
    "import pandas as pd\n",
    "non_zeroes_read = pd.read_csv(\"./nonzero_counts.csv\")"
   ]
  },
  {
   "cell_type": "code",
   "execution_count": 9,
   "metadata": {
    "collapsed": true
   },
   "outputs": [],
   "source": [
    "non_zero_values = list(non_zeroes_read['0'])"
   ]
  },
  {
   "cell_type": "markdown",
   "metadata": {},
   "source": [
    "### Continuous plot"
   ]
  },
  {
   "cell_type": "code",
   "execution_count": 20,
   "metadata": {},
   "outputs": [
    {
     "data": {
      "image/png": "[encoded data removed]",
      "text/plain": [
       "<matplotlib.figure.Figure at 0x118b71090>"
      ]
     },
     "metadata": {},
     "output_type": "display_data"
    }
   ],
   "source": [
    "plot_iterations = [1,2,3,4,5,6,7,8,9,10,11]\n",
    "import matplotlib.pyplot as plt\n",
    "import numpy as np\n",
    "plt.figure(figsize=(5,5))\n",
    "plt.plot(plot_iterations, non_zero_values) #,'go', markersize=4)\n",
    "plt.xticks(plot_iterations)\n",
    "y_ticks = [i for i in np.arange(0, 3000, 500)]\n",
    "plt.yticks(y_ticks)\n",
    "plt.xlabel(\"Iteration\")\n",
    "plt.ylabel(\"Number of nonzero weights\")\n",
    "plt.suptitle(\"Regularization path\")\n",
    "plt.title(\"Number of nonzero weights vs iteration number\")\n",
    "plt.show()"
   ]
  },
  {
   "cell_type": "markdown",
   "metadata": {},
   "source": [
    "### Discrete plot"
   ]
  },
  {
   "cell_type": "code",
   "execution_count": 40,
   "metadata": {},
   "outputs": [
    {
     "data": {
      "image/png": "[encoded data removed]",
      "text/plain": [
       "<matplotlib.figure.Figure at 0x11864b4d0>"
      ]
     },
     "metadata": {},
     "output_type": "display_data"
    }
   ],
   "source": [
    "plot_iterations = [1,2,3,4,5,6,7,8,9,10,11]\n",
    "import matplotlib.pyplot as plt\n",
    "import numpy as np\n",
    "plt.figure(figsize=(5,5))\n",
    "plt.plot(plot_iterations, non_zero_values,'bo', markersize=4)\n",
    "plt.xticks(plot_iterations)\n",
    "y_ticks = [i for i in np.arange(0, 3000, 500)]\n",
    "plt.yticks(y_ticks)\n",
    "plt.xlabel(\"Iteration\")\n",
    "plt.ylabel(\"Number of nonzero weights\")\n",
    "plt.suptitle(\"Regularization path\")\n",
    "plt.title(\"Number of nonzero weights vs iteration number\")\n",
    "plt.show()"
   ]
  },
  {
   "cell_type": "markdown",
   "metadata": {},
   "source": [
    "# Model"
   ]
  },
  {
   "cell_type": "code",
   "execution_count": 47,
   "metadata": {
    "collapsed": true
   },
   "outputs": [],
   "source": [
    "import pandas as pd\n",
    "l_read = pd.read_csv(\"./lambdas.csv\")\n",
    "v_read = pd.read_csv(\"./validation_errors.csv\")"
   ]
  },
  {
   "cell_type": "code",
   "execution_count": 50,
   "metadata": {
    "collapsed": true
   },
   "outputs": [],
   "source": [
    "l = list(l_read['0'])\n",
    "v = list(v_read['0'])"
   ]
  },
  {
   "cell_type": "code",
   "execution_count": 51,
   "metadata": {},
   "outputs": [
    {
     "data": {
      "text/plain": [
       "[1271.869651,\n",
       " 635.93482549999999,\n",
       " 317.96741274999999,\n",
       " 158.983706375,\n",
       " 79.491853187499999,\n",
       " 39.7459265938,\n",
       " 19.8729632969,\n",
       " 9.9364816484399991,\n",
       " 4.9682408242199996,\n",
       " 2.4841204121099998,\n",
       " 1.2420602060500001]"
      ]
     },
     "execution_count": 51,
     "metadata": {},
     "output_type": "execute_result"
    }
   ],
   "source": [
    "l"
   ]
  },
  {
   "cell_type": "code",
   "execution_count": 52,
   "metadata": {},
   "outputs": [
    {
     "data": {
      "text/plain": [
       "[3.3895861945099997,\n",
       " 3.2412400776800001,\n",
       " 3.00151605792,\n",
       " 2.78578065008,\n",
       " 2.5429305094700001,\n",
       " 2.34743447974,\n",
       " 2.1883453070299996,\n",
       " 2.0538853351599999,\n",
       " 1.9764444020599996,\n",
       " 1.96183883789,\n",
       " 1.99249532575]"
      ]
     },
     "execution_count": 52,
     "metadata": {},
     "output_type": "execute_result"
    }
   ],
   "source": [
    "v"
   ]
  },
  {
   "cell_type": "markdown",
   "metadata": {},
   "source": [
    "### The lambda that achieves the best performance on the validation set is 2.4841204121099998"
   ]
  },
  {
   "cell_type": "code",
   "execution_count": 53,
   "metadata": {
    "collapsed": true
   },
   "outputs": [],
   "source": [
    "w_read = pd.read_csv(\"./weights.csv\")"
   ]
  },
  {
   "cell_type": "code",
   "execution_count": 60,
   "metadata": {
    "collapsed": true
   },
   "outputs": [],
   "source": [
    "np_w_read = w_read.as_matrix()"
   ]
  },
  {
   "cell_type": "code",
   "execution_count": 88,
   "metadata": {
    "collapsed": true
   },
   "outputs": [],
   "source": [
    "best_weights = list(np_w_read[9])"
   ]
  },
  {
   "cell_type": "code",
   "execution_count": 89,
   "metadata": {
    "collapsed": true
   },
   "outputs": [],
   "source": [
    "best_weights = best_weights[1:]"
   ]
  },
  {
   "cell_type": "markdown",
   "metadata": {},
   "source": [
    "## Top 10 features"
   ]
  },
  {
   "cell_type": "code",
   "execution_count": 90,
   "metadata": {
    "collapsed": true
   },
   "outputs": [],
   "source": [
    "sorted_weights = sorted(best_weights, reverse=True)\n",
    "top_10 = sorted_weights[:10]"
   ]
  },
  {
   "cell_type": "code",
   "execution_count": 91,
   "metadata": {},
   "outputs": [
    {
     "data": {
      "text/plain": [
       "[10.527860370399999,\n",
       " 10.259023345399999,\n",
       " 9.6656205507600017,\n",
       " 9.4841935561700002,\n",
       " 8.8452248929399993,\n",
       " 8.6661815008200005,\n",
       " 8.3175169114699994,\n",
       " 8.2983356995699999,\n",
       " 8.2895126709200007,\n",
       " 8.0127295424000007]"
      ]
     },
     "execution_count": 91,
     "metadata": {},
     "output_type": "execute_result"
    }
   ],
   "source": [
    "top_10"
   ]
  },
  {
   "cell_type": "code",
   "execution_count": 92,
   "metadata": {
    "collapsed": true
   },
   "outputs": [],
   "source": [
    "top_10_features = []\n",
    "for elem in top_10:\n",
    "    top_10_features.append(best_weights.index(elem) + 1)"
   ]
  },
  {
   "cell_type": "code",
   "execution_count": 93,
   "metadata": {},
   "outputs": [
    {
     "data": {
      "text/plain": [
       "[974, 359, 2545, 993, 1836, 812, 1273, 1818, 1413, 934]"
      ]
     },
     "execution_count": 93,
     "metadata": {},
     "output_type": "execute_result"
    }
   ],
   "source": [
    "top_10_features"
   ]
  },
  {
   "cell_type": "markdown",
   "metadata": {},
   "source": [
    "#### These feature numbers correspond to the following features (from highest to lowest weights):\n",
    "1. spearmint\n",
    "2. lemon lime flavors\n",
    "3. big\n",
    "4. lifesaver\n",
    "5. lemony\n",
    "6. ageability\n",
    "7. sweet black\n",
    "8. nearly\n",
    "9. truly\n",
    "10. acidity provides"
   ]
  },
  {
   "cell_type": "markdown",
   "metadata": {},
   "source": [
    "## Bottom 10 features"
   ]
  },
  {
   "cell_type": "code",
   "execution_count": 94,
   "metadata": {
    "collapsed": true
   },
   "outputs": [],
   "source": [
    "sorted_weights = sorted(best_weights)\n",
    "bottom_10 = sorted_weights[:10]"
   ]
  },
  {
   "cell_type": "code",
   "execution_count": 95,
   "metadata": {},
   "outputs": [
    {
     "data": {
      "text/plain": [
       "[-9.6023949099500001,\n",
       " -6.8671123986300007,\n",
       " -6.44827431561,\n",
       " -5.9622432139799999,\n",
       " -5.7678789757899995,\n",
       " -5.5684606965699999,\n",
       " -5.3839409592499994,\n",
       " -5.3002934220199993,\n",
       " -5.2458482765800003,\n",
       " -5.1185656563499995]"
      ]
     },
     "execution_count": 95,
     "metadata": {},
     "output_type": "execute_result"
    }
   ],
   "source": [
    "bottom_10"
   ]
  },
  {
   "cell_type": "code",
   "execution_count": 96,
   "metadata": {
    "collapsed": true
   },
   "outputs": [],
   "source": [
    "bottom_10_features = []\n",
    "for elem in bottom_10:\n",
    "    bottom_10_features.append(best_weights.index(elem) + 1)"
   ]
  },
  {
   "cell_type": "code",
   "execution_count": 97,
   "metadata": {},
   "outputs": [
    {
     "data": {
      "text/plain": [
       "[741, 2586, 2628, 1487, 2043, 2564, 2850, 393, 1234, 440]"
      ]
     },
     "execution_count": 97,
     "metadata": {},
     "output_type": "execute_result"
    }
   ],
   "source": [
    "bottom_10_features"
   ]
  },
  {
   "cell_type": "markdown",
   "metadata": {},
   "source": [
    "#### These feature numbers correspond to the following features (from lowest to highest weights):\n",
    "1. earns\n",
    "2. cherry berry\n",
    "3. high\n",
    "4. soft\n",
    "5. sparkler\n",
    "6. cuts\n",
    "7. brightened\n",
    "8. semillon\n",
    "9. black\n",
    "10. liqueur"
   ]
  },
  {
   "cell_type": "markdown",
   "metadata": {},
   "source": [
    "# Test set"
   ]
  },
  {
   "cell_type": "code",
   "execution_count": 68,
   "metadata": {
    "collapsed": true
   },
   "outputs": [],
   "source": [
    "x_test_read = pd.read_csv(\"./testData.txt\", delimiter=\" \", header=None)"
   ]
  },
  {
   "cell_type": "code",
   "execution_count": 136,
   "metadata": {
    "collapsed": true
   },
   "outputs": [],
   "source": [
    "row = []\n",
    "col = []\n",
    "data = []\n",
    "\n",
    "for index, r in x_test_read.iterrows():\n",
    "    col.append(r[0] - 1)\n",
    "    row.append(r[1] - 1)\n",
    "    data.append(r[2])\n",
    "\n",
    "rows = np.array(row)\n",
    "cols = np.array(col)\n",
    "data_points = np.array(data)\n",
    "\n",
    "X_test = coo_matrix((data, (row, col)))\n",
    "X_test = csc_matrix(X_test)\n",
    "\n",
    "d_test = X_test.shape[0]\n",
    "N_test = X_test.shape[1]"
   ]
  },
  {
   "cell_type": "code",
   "execution_count": 137,
   "metadata": {},
   "outputs": [
    {
     "data": {
      "text/plain": [
       "<3000x20534 sparse matrix of type '<type 'numpy.float64'>'\n",
       "\twith 506990 stored elements in Compressed Sparse Column format>"
      ]
     },
     "execution_count": 137,
     "metadata": {},
     "output_type": "execute_result"
    }
   ],
   "source": [
    "X_test"
   ]
  },
  {
   "cell_type": "code",
   "execution_count": 139,
   "metadata": {
    "collapsed": true
   },
   "outputs": [],
   "source": [
    "weights_best = csc_matrix(w[-2]).transpose()"
   ]
  },
  {
   "cell_type": "code",
   "execution_count": 140,
   "metadata": {},
   "outputs": [
    {
     "data": {
      "text/plain": [
       "<3000x1 sparse matrix of type '<type 'numpy.float64'>'\n",
       "\twith 1784 stored elements in Compressed Sparse Row format>"
      ]
     },
     "execution_count": 140,
     "metadata": {},
     "output_type": "execute_result"
    }
   ],
   "source": [
    "weights_best"
   ]
  },
  {
   "cell_type": "code",
   "execution_count": 141,
   "metadata": {
    "collapsed": true
   },
   "outputs": [],
   "source": [
    "bias_best = b[-2]"
   ]
  },
  {
   "cell_type": "code",
   "execution_count": 142,
   "metadata": {},
   "outputs": [
    {
     "data": {
      "text/plain": [
       "84.014588693610975"
      ]
     },
     "execution_count": 142,
     "metadata": {},
     "output_type": "execute_result"
    }
   ],
   "source": [
    "bias_best"
   ]
  },
  {
   "cell_type": "code",
   "execution_count": 143,
   "metadata": {},
   "outputs": [
    {
     "data": {
      "text/plain": [
       "<3000x20534 sparse matrix of type '<type 'numpy.float64'>'\n",
       "\twith 506990 stored elements in Compressed Sparse Column format>"
      ]
     },
     "execution_count": 143,
     "metadata": {},
     "output_type": "execute_result"
    }
   ],
   "source": [
    "X_test"
   ]
  },
  {
   "cell_type": "code",
   "execution_count": 144,
   "metadata": {
    "collapsed": true
   },
   "outputs": [],
   "source": [
    "y_test = (X_test.transpose() * weights_best) + (bias_best * csc_matrix(np.ones(shape=(N_test, 1))))"
   ]
  },
  {
   "cell_type": "code",
   "execution_count": 198,
   "metadata": {},
   "outputs": [
    {
     "data": {
      "text/plain": [
       "<20534x1 sparse matrix of type '<type 'numpy.float64'>'\n",
       "\twith 20534 stored elements in Compressed Sparse Row format>"
      ]
     },
     "execution_count": 198,
     "metadata": {},
     "output_type": "execute_result"
    }
   ],
   "source": [
    "y_test"
   ]
  },
  {
   "cell_type": "code",
   "execution_count": 219,
   "metadata": {
    "collapsed": true
   },
   "outputs": [],
   "source": [
    "result = pd.DataFrame(y_test.toarray())"
   ]
  },
  {
   "cell_type": "code",
   "execution_count": 220,
   "metadata": {
    "collapsed": true
   },
   "outputs": [],
   "source": [
    "result.columns = ['Points']"
   ]
  },
  {
   "cell_type": "code",
   "execution_count": 221,
   "metadata": {
    "collapsed": true
   },
   "outputs": [],
   "source": [
    "indices = [i for i in range(1, len(result) + 1)]"
   ]
  },
  {
   "cell_type": "code",
   "execution_count": 222,
   "metadata": {},
   "outputs": [
    {
     "data": {
      "text/plain": [
       "20534"
      ]
     },
     "execution_count": 222,
     "metadata": {},
     "output_type": "execute_result"
    }
   ],
   "source": [
    "indices[-1]"
   ]
  },
  {
   "cell_type": "code",
   "execution_count": 223,
   "metadata": {
    "collapsed": true
   },
   "outputs": [],
   "source": [
    "result['ID'] = pd.Series(indices)"
   ]
  },
  {
   "cell_type": "code",
   "execution_count": 224,
   "metadata": {
    "collapsed": true
   },
   "outputs": [],
   "source": [
    "result_cols = ['ID', 'Points']"
   ]
  },
  {
   "cell_type": "code",
   "execution_count": 225,
   "metadata": {
    "collapsed": true
   },
   "outputs": [],
   "source": [
    "result = result[result_cols]"
   ]
  },
  {
   "cell_type": "code",
   "execution_count": 226,
   "metadata": {},
   "outputs": [
    {
     "data": {
      "text/html": [
       "<div>\n",
       "<style>\n",
       "    .dataframe thead tr:only-child th {\n",
       "        text-align: right;\n",
       "    }\n",
       "\n",
       "    .dataframe thead th {\n",
       "        text-align: left;\n",
       "    }\n",
       "\n",
       "    .dataframe tbody tr th {\n",
       "        vertical-align: top;\n",
       "    }\n",
       "</style>\n",
       "<table border=\"1\" class=\"dataframe\">\n",
       "  <thead>\n",
       "    <tr style=\"text-align: right;\">\n",
       "      <th></th>\n",
       "      <th>ID</th>\n",
       "      <th>Points</th>\n",
       "    </tr>\n",
       "  </thead>\n",
       "  <tbody>\n",
       "    <tr>\n",
       "      <th>0</th>\n",
       "      <td>1</td>\n",
       "      <td>91.427697</td>\n",
       "    </tr>\n",
       "    <tr>\n",
       "      <th>1</th>\n",
       "      <td>2</td>\n",
       "      <td>82.391263</td>\n",
       "    </tr>\n",
       "    <tr>\n",
       "      <th>2</th>\n",
       "      <td>3</td>\n",
       "      <td>89.582660</td>\n",
       "    </tr>\n",
       "    <tr>\n",
       "      <th>3</th>\n",
       "      <td>4</td>\n",
       "      <td>88.143209</td>\n",
       "    </tr>\n",
       "    <tr>\n",
       "      <th>4</th>\n",
       "      <td>5</td>\n",
       "      <td>82.688011</td>\n",
       "    </tr>\n",
       "    <tr>\n",
       "      <th>5</th>\n",
       "      <td>6</td>\n",
       "      <td>87.689651</td>\n",
       "    </tr>\n",
       "    <tr>\n",
       "      <th>6</th>\n",
       "      <td>7</td>\n",
       "      <td>87.567576</td>\n",
       "    </tr>\n",
       "    <tr>\n",
       "      <th>7</th>\n",
       "      <td>8</td>\n",
       "      <td>87.811686</td>\n",
       "    </tr>\n",
       "    <tr>\n",
       "      <th>8</th>\n",
       "      <td>9</td>\n",
       "      <td>90.039876</td>\n",
       "    </tr>\n",
       "    <tr>\n",
       "      <th>9</th>\n",
       "      <td>10</td>\n",
       "      <td>91.031498</td>\n",
       "    </tr>\n",
       "    <tr>\n",
       "      <th>10</th>\n",
       "      <td>11</td>\n",
       "      <td>90.440489</td>\n",
       "    </tr>\n",
       "    <tr>\n",
       "      <th>11</th>\n",
       "      <td>12</td>\n",
       "      <td>90.557560</td>\n",
       "    </tr>\n",
       "    <tr>\n",
       "      <th>12</th>\n",
       "      <td>13</td>\n",
       "      <td>89.430691</td>\n",
       "    </tr>\n",
       "    <tr>\n",
       "      <th>13</th>\n",
       "      <td>14</td>\n",
       "      <td>93.819804</td>\n",
       "    </tr>\n",
       "    <tr>\n",
       "      <th>14</th>\n",
       "      <td>15</td>\n",
       "      <td>90.553205</td>\n",
       "    </tr>\n",
       "    <tr>\n",
       "      <th>15</th>\n",
       "      <td>16</td>\n",
       "      <td>88.937920</td>\n",
       "    </tr>\n",
       "    <tr>\n",
       "      <th>16</th>\n",
       "      <td>17</td>\n",
       "      <td>90.557565</td>\n",
       "    </tr>\n",
       "    <tr>\n",
       "      <th>17</th>\n",
       "      <td>18</td>\n",
       "      <td>88.389268</td>\n",
       "    </tr>\n",
       "    <tr>\n",
       "      <th>18</th>\n",
       "      <td>19</td>\n",
       "      <td>92.378349</td>\n",
       "    </tr>\n",
       "    <tr>\n",
       "      <th>19</th>\n",
       "      <td>20</td>\n",
       "      <td>90.079773</td>\n",
       "    </tr>\n",
       "    <tr>\n",
       "      <th>20</th>\n",
       "      <td>21</td>\n",
       "      <td>81.715007</td>\n",
       "    </tr>\n",
       "    <tr>\n",
       "      <th>21</th>\n",
       "      <td>22</td>\n",
       "      <td>90.792592</td>\n",
       "    </tr>\n",
       "    <tr>\n",
       "      <th>22</th>\n",
       "      <td>23</td>\n",
       "      <td>86.887768</td>\n",
       "    </tr>\n",
       "    <tr>\n",
       "      <th>23</th>\n",
       "      <td>24</td>\n",
       "      <td>86.965423</td>\n",
       "    </tr>\n",
       "    <tr>\n",
       "      <th>24</th>\n",
       "      <td>25</td>\n",
       "      <td>90.555148</td>\n",
       "    </tr>\n",
       "    <tr>\n",
       "      <th>25</th>\n",
       "      <td>26</td>\n",
       "      <td>89.645354</td>\n",
       "    </tr>\n",
       "    <tr>\n",
       "      <th>26</th>\n",
       "      <td>27</td>\n",
       "      <td>84.518266</td>\n",
       "    </tr>\n",
       "    <tr>\n",
       "      <th>27</th>\n",
       "      <td>28</td>\n",
       "      <td>86.921367</td>\n",
       "    </tr>\n",
       "    <tr>\n",
       "      <th>28</th>\n",
       "      <td>29</td>\n",
       "      <td>86.992471</td>\n",
       "    </tr>\n",
       "    <tr>\n",
       "      <th>29</th>\n",
       "      <td>30</td>\n",
       "      <td>84.541307</td>\n",
       "    </tr>\n",
       "    <tr>\n",
       "      <th>...</th>\n",
       "      <td>...</td>\n",
       "      <td>...</td>\n",
       "    </tr>\n",
       "    <tr>\n",
       "      <th>20504</th>\n",
       "      <td>20505</td>\n",
       "      <td>89.408451</td>\n",
       "    </tr>\n",
       "    <tr>\n",
       "      <th>20505</th>\n",
       "      <td>20506</td>\n",
       "      <td>89.202512</td>\n",
       "    </tr>\n",
       "    <tr>\n",
       "      <th>20506</th>\n",
       "      <td>20507</td>\n",
       "      <td>83.043342</td>\n",
       "    </tr>\n",
       "    <tr>\n",
       "      <th>20507</th>\n",
       "      <td>20508</td>\n",
       "      <td>85.620127</td>\n",
       "    </tr>\n",
       "    <tr>\n",
       "      <th>20508</th>\n",
       "      <td>20509</td>\n",
       "      <td>91.076884</td>\n",
       "    </tr>\n",
       "    <tr>\n",
       "      <th>20509</th>\n",
       "      <td>20510</td>\n",
       "      <td>84.954887</td>\n",
       "    </tr>\n",
       "    <tr>\n",
       "      <th>20510</th>\n",
       "      <td>20511</td>\n",
       "      <td>85.181226</td>\n",
       "    </tr>\n",
       "    <tr>\n",
       "      <th>20511</th>\n",
       "      <td>20512</td>\n",
       "      <td>89.725055</td>\n",
       "    </tr>\n",
       "    <tr>\n",
       "      <th>20512</th>\n",
       "      <td>20513</td>\n",
       "      <td>88.829479</td>\n",
       "    </tr>\n",
       "    <tr>\n",
       "      <th>20513</th>\n",
       "      <td>20514</td>\n",
       "      <td>88.753514</td>\n",
       "    </tr>\n",
       "    <tr>\n",
       "      <th>20514</th>\n",
       "      <td>20515</td>\n",
       "      <td>82.761722</td>\n",
       "    </tr>\n",
       "    <tr>\n",
       "      <th>20515</th>\n",
       "      <td>20516</td>\n",
       "      <td>87.694649</td>\n",
       "    </tr>\n",
       "    <tr>\n",
       "      <th>20516</th>\n",
       "      <td>20517</td>\n",
       "      <td>93.031878</td>\n",
       "    </tr>\n",
       "    <tr>\n",
       "      <th>20517</th>\n",
       "      <td>20518</td>\n",
       "      <td>86.431594</td>\n",
       "    </tr>\n",
       "    <tr>\n",
       "      <th>20518</th>\n",
       "      <td>20519</td>\n",
       "      <td>87.604420</td>\n",
       "    </tr>\n",
       "    <tr>\n",
       "      <th>20519</th>\n",
       "      <td>20520</td>\n",
       "      <td>81.137926</td>\n",
       "    </tr>\n",
       "    <tr>\n",
       "      <th>20520</th>\n",
       "      <td>20521</td>\n",
       "      <td>83.498255</td>\n",
       "    </tr>\n",
       "    <tr>\n",
       "      <th>20521</th>\n",
       "      <td>20522</td>\n",
       "      <td>88.402698</td>\n",
       "    </tr>\n",
       "    <tr>\n",
       "      <th>20522</th>\n",
       "      <td>20523</td>\n",
       "      <td>92.747561</td>\n",
       "    </tr>\n",
       "    <tr>\n",
       "      <th>20523</th>\n",
       "      <td>20524</td>\n",
       "      <td>82.847771</td>\n",
       "    </tr>\n",
       "    <tr>\n",
       "      <th>20524</th>\n",
       "      <td>20525</td>\n",
       "      <td>87.233558</td>\n",
       "    </tr>\n",
       "    <tr>\n",
       "      <th>20525</th>\n",
       "      <td>20526</td>\n",
       "      <td>92.311119</td>\n",
       "    </tr>\n",
       "    <tr>\n",
       "      <th>20526</th>\n",
       "      <td>20527</td>\n",
       "      <td>84.932863</td>\n",
       "    </tr>\n",
       "    <tr>\n",
       "      <th>20527</th>\n",
       "      <td>20528</td>\n",
       "      <td>86.463498</td>\n",
       "    </tr>\n",
       "    <tr>\n",
       "      <th>20528</th>\n",
       "      <td>20529</td>\n",
       "      <td>84.347422</td>\n",
       "    </tr>\n",
       "    <tr>\n",
       "      <th>20529</th>\n",
       "      <td>20530</td>\n",
       "      <td>89.469826</td>\n",
       "    </tr>\n",
       "    <tr>\n",
       "      <th>20530</th>\n",
       "      <td>20531</td>\n",
       "      <td>87.289960</td>\n",
       "    </tr>\n",
       "    <tr>\n",
       "      <th>20531</th>\n",
       "      <td>20532</td>\n",
       "      <td>88.147345</td>\n",
       "    </tr>\n",
       "    <tr>\n",
       "      <th>20532</th>\n",
       "      <td>20533</td>\n",
       "      <td>90.216475</td>\n",
       "    </tr>\n",
       "    <tr>\n",
       "      <th>20533</th>\n",
       "      <td>20534</td>\n",
       "      <td>89.783464</td>\n",
       "    </tr>\n",
       "  </tbody>\n",
       "</table>\n",
       "<p>20534 rows × 2 columns</p>\n",
       "</div>"
      ],
      "text/plain": [
       "          ID     Points\n",
       "0          1  91.427697\n",
       "1          2  82.391263\n",
       "2          3  89.582660\n",
       "3          4  88.143209\n",
       "4          5  82.688011\n",
       "5          6  87.689651\n",
       "6          7  87.567576\n",
       "7          8  87.811686\n",
       "8          9  90.039876\n",
       "9         10  91.031498\n",
       "10        11  90.440489\n",
       "11        12  90.557560\n",
       "12        13  89.430691\n",
       "13        14  93.819804\n",
       "14        15  90.553205\n",
       "15        16  88.937920\n",
       "16        17  90.557565\n",
       "17        18  88.389268\n",
       "18        19  92.378349\n",
       "19        20  90.079773\n",
       "20        21  81.715007\n",
       "21        22  90.792592\n",
       "22        23  86.887768\n",
       "23        24  86.965423\n",
       "24        25  90.555148\n",
       "25        26  89.645354\n",
       "26        27  84.518266\n",
       "27        28  86.921367\n",
       "28        29  86.992471\n",
       "29        30  84.541307\n",
       "...      ...        ...\n",
       "20504  20505  89.408451\n",
       "20505  20506  89.202512\n",
       "20506  20507  83.043342\n",
       "20507  20508  85.620127\n",
       "20508  20509  91.076884\n",
       "20509  20510  84.954887\n",
       "20510  20511  85.181226\n",
       "20511  20512  89.725055\n",
       "20512  20513  88.829479\n",
       "20513  20514  88.753514\n",
       "20514  20515  82.761722\n",
       "20515  20516  87.694649\n",
       "20516  20517  93.031878\n",
       "20517  20518  86.431594\n",
       "20518  20519  87.604420\n",
       "20519  20520  81.137926\n",
       "20520  20521  83.498255\n",
       "20521  20522  88.402698\n",
       "20522  20523  92.747561\n",
       "20523  20524  82.847771\n",
       "20524  20525  87.233558\n",
       "20525  20526  92.311119\n",
       "20526  20527  84.932863\n",
       "20527  20528  86.463498\n",
       "20528  20529  84.347422\n",
       "20529  20530  89.469826\n",
       "20530  20531  87.289960\n",
       "20531  20532  88.147345\n",
       "20532  20533  90.216475\n",
       "20533  20534  89.783464\n",
       "\n",
       "[20534 rows x 2 columns]"
      ]
     },
     "execution_count": 226,
     "metadata": {},
     "output_type": "execute_result"
    }
   ],
   "source": [
    "result"
   ]
  },
  {
   "cell_type": "code",
   "execution_count": 227,
   "metadata": {
    "collapsed": true
   },
   "outputs": [],
   "source": [
    "result.to_csv(\"./predTestLabels.csv\", index=False)"
   ]
  },
  {
   "cell_type": "markdown",
   "metadata": {
    "collapsed": true
   },
   "source": [
    "### The RMSE is 1.95783."
   ]
  }
 ],
 "metadata": {
  "kernelspec": {
   "display_name": "Python 2",
   "language": "python",
   "name": "python2"
  },
  "language_info": {
   "codemirror_mode": {
    "name": "ipython",
    "version": 2
   },
   "file_extension": ".py",
   "mimetype": "text/x-python",
   "name": "python",
   "nbconvert_exporter": "python",
   "pygments_lexer": "ipython2",
   "version": "2.7.14"
  }
 },
 "nbformat": 4,
 "nbformat_minor": 2
}
